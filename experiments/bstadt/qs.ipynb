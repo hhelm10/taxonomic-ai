{
 "cells": [
  {
   "cell_type": "code",
   "execution_count": 1,
   "metadata": {},
   "outputs": [],
   "source": [
    "from taxi import utils, taxi"
   ]
  },
  {
   "cell_type": "code",
   "execution_count": 41,
   "metadata": {},
   "outputs": [
    {
     "name": "stderr",
     "output_type": "stream",
     "text": [
      "<All keys matched successfully>\n"
     ]
    }
   ],
   "source": [
    "import gc\n",
    "import glob\n",
    "import torch\n",
    "\n",
    "\n",
    "import numpy as np\n",
    "from datasets import load_dataset\n",
    "from graspologic.embed import ClassicalMDS\n",
    "from scipy.spatial.distance import pdist, squareform\n",
    "from sentence_transformers import SentenceTransformer\n",
    "from transformers import (\n",
    "    AutoModelForCausalLM,\n",
    "    AutoTokenizer,\n",
    "    TrainingArguments,\n",
    "    Trainer,\n",
    "    DataCollatorForLanguageModeling\n",
    ")\n",
    "from peft import (\n",
    "    prepare_model_for_kbit_training,\n",
    "    LoraConfig,\n",
    "    get_peft_model,\n",
    "    PeftModel,\n",
    "    PeftConfig\n",
    ")\n",
    "\n",
    "EMBEDDING_MODEL = SentenceTransformer(\"nomic-ai/nomic-embed-text-v1.5\", trust_remote_code=True, device='cuda:0')\n",
    "\n",
    "model_id = 'meta-llama/Meta-Llama-3.1-8B-Instruct'\n",
    "tokenizer = AutoTokenizer.from_pretrained(\n",
    "    model_id,\n",
    "    trust_remote_code=True\n",
    ")\n",
    "tokenizer.padding_token = tokenizer.eos_token\n",
    "tokenizer.pad_token = tokenizer.eos_token\n",
    "tokenizer.padding_side='right'\n",
    "\n",
    "\n",
    "# group 1: Health (2), Sports (5), Family (8)\n",
    "# group 2: Politics (9), business (6), society and culture (0)\n",
    "# group 3: Computers (4), Entertainment (7), Education (3) \n",
    "coarse_to_fine_dict = {\n",
    "    0: (2,5,8),\n",
    "    1: (9,6,0),\n",
    "    2: (4,7,3)\n",
    "}\n",
    "\n",
    "dataset_name = 'community-datasets/yahoo_answers_topics'\n",
    "topic_key = 'topic'\n",
    "cache_dir = '~/.cache/huggingface/datasets'\n",
    "\n",
    "mc = 1\n",
    "N=10000\n",
    "\n",
    "def get_fine_pis(coarse_pi, coarse_to_fine_dict):\n",
    "    fine_topics = []\n",
    "    fine_pi = []\n",
    "    \n",
    "    for i, coarse in enumerate(coarse_to_fine_dict):\n",
    "        for fine in coarse_to_fine_dict[coarse]:\n",
    "            fine_topics.append(fine)\n",
    "            fine_pi.append(coarse_pi[coarse] / len(coarse_to_fine_dict[coarse]))\n",
    "            \n",
    "    return tuple(fine_topics), tuple(fine_pi)\n"
   ]
  },
  {
   "cell_type": "code",
   "execution_count": 47,
   "metadata": {},
   "outputs": [],
   "source": [
    "true_pi_list = [(1,0,0), (0,1,0), (0,0,1), (1/3,1/3,1/3)]\n",
    "datasets = {}\n",
    "\n",
    "for true_pi in true_pi_list:\n",
    "    fine_topics, fine_pi = get_fine_pis(true_pi, coarse_to_fine_dict)\n",
    "    datasets[true_pi] = utils.get_dataset_by_pi(fine_pi, dataset_name, topic_key, fine_topics, N, cache_dir=cache_dir, seed=0)"
   ]
  },
  {
   "cell_type": "code",
   "execution_count": 48,
   "metadata": {},
   "outputs": [],
   "source": [
    "dist_pis = squareform(pdist(true_pi_list))\n",
    "dist_pis /= np.linalg.norm(dist_pis)\n",
    "true_geometry = ClassicalMDS(n_components=3).fit_transform(dist_pis)\n",
    "\n",
    "data_geometry = taxi.get_dataset_geometry(true_geometry, \n",
    "                                          datasets, \n",
    "                                          EMBEDDING_MODEL\n",
    "                                         )"
   ]
  },
  {
   "cell_type": "code",
   "execution_count": 28,
   "metadata": {},
   "outputs": [],
   "source": [
    "query_pi_list = [\n",
    "    (1/3, 1/3, 1/3),\n",
    "    (1/2, 1/4, 1/4),\n",
    "    (3/4, 1/8, 1/8),\n",
    "    (1, 0, 0)\n",
    "]\n",
    "\n",
    "query_datasets = {}\n",
    "\n",
    "for true_pi in query_pi_list:\n",
    "    fine_topics, fine_pi = get_fine_pis(true_pi, coarse_to_fine_dict)\n",
    "    query_datasets[true_pi] = utils.get_dataset_by_pi(fine_pi, dataset_name, topic_key, fine_topics, N, cache_dir=cache_dir, seed=0)"
   ]
  },
  {
   "cell_type": "code",
   "execution_count": 8,
   "metadata": {},
   "outputs": [
    {
     "name": "stdout",
     "output_type": "stream",
     "text": [
      "./models/N_10000_lora_128_id_0_pi_000_000_100\n",
      "Extracted true_pi: (0.0, 0.0, 1.0)\n"
     ]
    },
    {
     "data": {
      "application/vnd.jupyter.widget-view+json": {
       "model_id": "a9898df5da6345a2a29470a4cbd5e456",
       "version_major": 2,
       "version_minor": 0
      },
      "text/plain": [
       "Loading checkpoint shards:   0%|          | 0/4 [00:00<?, ?it/s]"
      ]
     },
     "metadata": {},
     "output_type": "display_data"
    },
    {
     "name": "stdout",
     "output_type": "stream",
     "text": [
      "./models/N_10000_lora_128_id_0_pi_000_100_000\n",
      "Extracted true_pi: (0.0, 1.0, 0.0)\n"
     ]
    },
    {
     "data": {
      "application/vnd.jupyter.widget-view+json": {
       "model_id": "5d23aee240c44f65892b4fba56f7cdfe",
       "version_major": 2,
       "version_minor": 0
      },
      "text/plain": [
       "Loading checkpoint shards:   0%|          | 0/4 [00:00<?, ?it/s]"
      ]
     },
     "metadata": {},
     "output_type": "display_data"
    },
    {
     "name": "stdout",
     "output_type": "stream",
     "text": [
      "./models/N_10000_lora_128_id_0_pi_033_033_033\n",
      "Extracted true_pi: (0.33, 0.33, 0.33)\n"
     ]
    },
    {
     "data": {
      "application/vnd.jupyter.widget-view+json": {
       "model_id": "84bce088ac65405797085626b408f7c0",
       "version_major": 2,
       "version_minor": 0
      },
      "text/plain": [
       "Loading checkpoint shards:   0%|          | 0/4 [00:00<?, ?it/s]"
      ]
     },
     "metadata": {},
     "output_type": "display_data"
    },
    {
     "name": "stdout",
     "output_type": "stream",
     "text": [
      "./models/N_10000_lora_128_id_0_pi_100_000_000\n",
      "Extracted true_pi: (1.0, 0.0, 0.0)\n"
     ]
    },
    {
     "data": {
      "application/vnd.jupyter.widget-view+json": {
       "model_id": "52c4064e7e82443f807d8a65f00ea911",
       "version_major": 2,
       "version_minor": 0
      },
      "text/plain": [
       "Loading checkpoint shards:   0%|          | 0/4 [00:00<?, ?it/s]"
      ]
     },
     "metadata": {},
     "output_type": "display_data"
    }
   ],
   "source": [
    "lora_matrices = {}\n",
    "\n",
    "for save_string in glob.glob('./models/N_10000*lora_128*'):\n",
    "    print(save_string)\n",
    "\n",
    "    # Extract true_pi from save_string\n",
    "    pi_str = save_string.split('pi_')[-1]\n",
    "    pi_values = [int(x)/100 for x in pi_str.split('_')]\n",
    "    true_pi = tuple(pi_values)\n",
    "    print(f\"Extracted true_pi: {true_pi}\")\n",
    "\n",
    "    base_model = AutoModelForCausalLM.from_pretrained(\n",
    "            model_id,\n",
    "            torch_dtype=torch.float16,\n",
    "            device_map=\"cuda:0\",\n",
    "            trust_remote_code=True\n",
    "    )\n",
    "\n",
    "\n",
    "    model = PeftModel.from_pretrained(\n",
    "        base_model,\n",
    "        save_string,\n",
    "        torch_dtype=torch.float16,\n",
    "        device_map='cuda:0'\n",
    "    )\n",
    "\n",
    "    loras = taxi.get_lora_matrices(model, target_modules = [\"q_proj\",\"k_proj\",\"v_proj\"])\n",
    "    lora_matrices[true_pi] = loras\n",
    "\n",
    "    #clear memory\n",
    "    del model\n",
    "    del base_model\n",
    "    torch.cuda.empty_cache()\n",
    "    gc.collect()\n",
    "\n",
    "structural_geometry = taxi.get_structural_geometry(true_geometry, lora_matrices)"
   ]
  },
  {
   "cell_type": "code",
   "execution_count": 9,
   "metadata": {},
   "outputs": [
    {
     "name": "stdout",
     "output_type": "stream",
     "text": [
      "Model:  ./models/N_10000_lora_128_id_0_pi_000_000_100\n"
     ]
    },
    {
     "data": {
      "application/vnd.jupyter.widget-view+json": {
       "model_id": "f1faa1c073e340c6817997fc6baaea10",
       "version_major": 2,
       "version_minor": 0
      },
      "text/plain": [
       "Loading checkpoint shards:   0%|          | 0/4 [00:00<?, ?it/s]"
      ]
     },
     "metadata": {},
     "output_type": "display_data"
    },
    {
     "name": "stdout",
     "output_type": "stream",
     "text": [
      "\tQuerying with:  (0.3333333333333333, 0.3333333333333333, 0.3333333333333333)\n"
     ]
    },
    {
     "name": "stderr",
     "output_type": "stream",
     "text": [
      "/home/ubuntu/helivan-project-generation/venvs/helivan/lib/python3.10/site-packages/transformers/tokenization_utils_base.py:2718: UserWarning: `max_length` is ignored when `padding`=`True` and there is no truncation strategy. To pad to max length, use `padding='max_length'`.\n",
      "  warnings.warn(\n",
      "/home/ubuntu/helivan-project-generation/venvs/helivan/lib/python3.10/site-packages/transformers/generation/configuration_utils.py:631: UserWarning: `do_sample` is set to `False`. However, `temperature` is set to `0` -- this flag is only used in sample-based generation modes. You should set `do_sample=True` or unset `temperature`.\n",
      "  warnings.warn(\n",
      "/home/ubuntu/helivan-project-generation/venvs/helivan/lib/python3.10/site-packages/transformers/generation/configuration_utils.py:636: UserWarning: `do_sample` is set to `False`. However, `top_p` is set to `0.9` -- this flag is only used in sample-based generation modes. You should set `do_sample=True` or unset `top_p`.\n",
      "  warnings.warn(\n"
     ]
    },
    {
     "name": "stdout",
     "output_type": "stream",
     "text": [
      "\tQuerying with:  (0.5, 0.25, 0.25)\n",
      "\tQuerying with:  (0.75, 0.125, 0.125)\n",
      "\tQuerying with:  (1, 0, 0)\n",
      "Model:  ./models/N_10000_lora_128_id_0_pi_000_100_000\n"
     ]
    },
    {
     "data": {
      "application/vnd.jupyter.widget-view+json": {
       "model_id": "9b3ba56fc4c641a588cc6d23cbfd0566",
       "version_major": 2,
       "version_minor": 0
      },
      "text/plain": [
       "Loading checkpoint shards:   0%|          | 0/4 [00:00<?, ?it/s]"
      ]
     },
     "metadata": {},
     "output_type": "display_data"
    },
    {
     "name": "stdout",
     "output_type": "stream",
     "text": [
      "\tQuerying with:  (0.3333333333333333, 0.3333333333333333, 0.3333333333333333)\n",
      "\tQuerying with:  (0.5, 0.25, 0.25)\n",
      "\tQuerying with:  (0.75, 0.125, 0.125)\n",
      "\tQuerying with:  (1, 0, 0)\n",
      "Model:  ./models/N_10000_lora_128_id_0_pi_033_033_033\n"
     ]
    },
    {
     "data": {
      "application/vnd.jupyter.widget-view+json": {
       "model_id": "8df3520e2a5741c8a59220e438355be7",
       "version_major": 2,
       "version_minor": 0
      },
      "text/plain": [
       "Loading checkpoint shards:   0%|          | 0/4 [00:00<?, ?it/s]"
      ]
     },
     "metadata": {},
     "output_type": "display_data"
    },
    {
     "name": "stdout",
     "output_type": "stream",
     "text": [
      "\tQuerying with:  (0.3333333333333333, 0.3333333333333333, 0.3333333333333333)\n",
      "\tQuerying with:  (0.5, 0.25, 0.25)\n",
      "\tQuerying with:  (0.75, 0.125, 0.125)\n",
      "\tQuerying with:  (1, 0, 0)\n",
      "Model:  ./models/N_10000_lora_128_id_0_pi_100_000_000\n"
     ]
    },
    {
     "data": {
      "application/vnd.jupyter.widget-view+json": {
       "model_id": "c353510f2cf74ee59e828d1e90be8c84",
       "version_major": 2,
       "version_minor": 0
      },
      "text/plain": [
       "Loading checkpoint shards:   0%|          | 0/4 [00:00<?, ?it/s]"
      ]
     },
     "metadata": {},
     "output_type": "display_data"
    },
    {
     "name": "stdout",
     "output_type": "stream",
     "text": [
      "\tQuerying with:  (0.3333333333333333, 0.3333333333333333, 0.3333333333333333)\n",
      "\tQuerying with:  (0.5, 0.25, 0.25)\n",
      "\tQuerying with:  (0.75, 0.125, 0.125)\n",
      "\tQuerying with:  (1, 0, 0)\n"
     ]
    }
   ],
   "source": [
    "from collections import defaultdict\n",
    "func_behav = defaultdict(dict)\n",
    "for save_string in glob.glob('./models/N_10000*lora_128*'):\n",
    "    print('Model: ' , save_string)\n",
    "\n",
    "    # Extract true_pi from save_string\n",
    "    pi_str = save_string.split('pi_')[-1]\n",
    "    pi_values = [int(x)/100 for x in pi_str.split('_')]\n",
    "    true_pi = tuple(pi_values)\n",
    "\n",
    "    base_model = AutoModelForCausalLM.from_pretrained(\n",
    "            model_id,\n",
    "            torch_dtype=torch.float16,\n",
    "            device_map=\"cuda:0\",\n",
    "            trust_remote_code=True\n",
    "    )\n",
    "\n",
    "    model = PeftModel.from_pretrained(\n",
    "        base_model,\n",
    "        save_string,\n",
    "        torch_dtype=torch.float16,\n",
    "        device_map='cuda:0'\n",
    "    )\n",
    "\n",
    "    for query_pi, query_dataset in query_datasets.items():\n",
    "        print('\\tQuerying with: ', query_pi)\n",
    "        query_strings = [q['question_title'] for q in query_dataset]\n",
    "        responses, hidden_states = taxi.get_outputs(model, tokenizer, query_strings, max_length=32, match_n_input_tokens=True)\n",
    "        func_behav[query_pi][true_pi] = {'responses': responses, 'hidden_states': hidden_states}\n",
    "\n",
    "    del model\n",
    "    del base_model\n",
    "    torch.cuda.empty_cache()\n",
    "    gc.collect()"
   ]
  },
  {
   "cell_type": "code",
   "execution_count": 10,
   "metadata": {},
   "outputs": [],
   "source": [
    "#func behav is [query_pi][training_pi]\n",
    "functional_geometries_by_query_pi ={}\n",
    "for query_pi in query_pi_list:\n",
    "    embeddings = {k: v['hidden_states'] for k,v in func_behav[query_pi].items()}\n",
    "    functional_geometries_by_query_pi[query_pi] = taxi.get_functional_geometry(true_geometry, embeddings)\n",
    "\n",
    "behaviorial_geometries_by_query_pi = {}\n",
    "for query_pi in query_pi_list:\n",
    "    responses = {k: v['responses'] for k,v in func_behav[query_pi].items()}\n",
    "    behaviorial_geometries_by_query_pi[query_pi] = taxi.get_behavioral_geometry(true_geometry, responses, EMBEDDING_MODEL)"
   ]
  },
  {
   "cell_type": "code",
   "execution_count": 49,
   "metadata": {},
   "outputs": [],
   "source": [
    "import pickle\n",
    "\n",
    "xs = []\n",
    "data_ys = []\n",
    "struct_ys = []\n",
    "func_ys = []\n",
    "behav_ys = []\n",
    "\n",
    "for query_pi in query_pi_list:\n",
    "    dist_to_centroid = np.linalg.norm([0.33, 0.33, 0.33] - np.array(query_pi))\n",
    "    xs.append(dist_to_centroid)\n",
    "\n",
    "    #dataset geo dist\n",
    "    data_geo_dist = np.linalg.norm(true_geometry - np.array(data_geometry))\n",
    "    data_ys.append(data_geo_dist)\n",
    "\n",
    "    #structural geo dist\n",
    "    struct_geo_dist = np.linalg.norm(true_geometry - np.array(structural_geometry))\n",
    "    struct_ys.append(struct_geo_dist)\n",
    "\n",
    "    #functional geo dist\n",
    "    func_geo_dist = np.linalg.norm(true_geometry - np.array(functional_geometries_by_query_pi[query_pi]))\n",
    "    func_ys.append(func_geo_dist)\n",
    "\n",
    "    #behaviorial geo dist\n",
    "    behav_geo_dist = np.linalg.norm(true_geometry - np.array(behaviorial_geometries_by_query_pi[query_pi]))\n",
    "    behav_ys.append(behav_geo_dist)\n",
    "\n",
    "data_dict = {'x': xs, 'data': data_ys, 'structural': struct_ys, 'behavioral': behav_ys}\n",
    "pickle.dump(data_dict, open('data/effect_of_q_distribution.p', 'wb'))"
   ]
  },
  {
   "cell_type": "code",
   "execution_count": 80,
   "metadata": {},
   "outputs": [
    {
     "data": {
      "image/png": "[encoded data removed]",
      "text/plain": [
       "<Figure size 1000x500 with 2 Axes>"
      ]
     },
     "metadata": {},
     "output_type": "display_data"
    }
   ],
   "source": [
    "from matplotlib import pyplot as plt\n",
    "\n",
    "plt.style.use('ggplot')\n",
    "\n",
    "fig, axs = plt.subplots(1,2, figsize=(10,5), sharex=False, sharey=True)\n",
    "\n",
    "data_dict = pickle.load(open('data/effect_of_size_of_q.p', 'rb'))\n",
    "ax=axs[0]\n",
    "ax.set_xscale('log')\n",
    "\n",
    "ax.set_ylabel('$||\\pi^{*} - \\hat{\\pi}||_F$', fontsize=16)\n",
    "ax.set_xlabel(r'Number of queries ($ m $)', fontsize=16)\n",
    "ax.plot(data_dict['x'], data_dict['data'], label='data', lw=3, c='tab:blue')\n",
    "ax.plot(data_dict['x'], data_dict['structural'], label='structural', lw=3, c='tab:green')\n",
    "ax.plot(data_dict['x'], data_dict['behavioral'], label='behavioral', lw=3, color='tab:red')\n",
    "ax.legend(fontsize=12, loc='center left')\n",
    "ax.tick_params(labelsize=14)\n",
    "ax.set_title(r'$\\pi_{Q} = (1/3, 1/3, 1/3)$', fontsize=18)\n",
    "\n",
    "ax.set_yticks([0.04, 0.08, 0.12, 0.16])\n",
    "\n",
    "data_dict = pickle.load(open('data/effect_of_q_distribution.p', 'rb'))\n",
    "ax=axs[1]\n",
    "# ax.set_ylabel('$||\\pi^{*} - \\hat{\\pi}||_F$', fontsize=16)\n",
    "ax.set_xlabel('$|| \\pi_{Q}, barycenter ||_F $', fontsize=16)\n",
    "ax.plot(data_dict['x'], data_dict['data'], label='data', lw=3, c='tab:blue')\n",
    "ax.plot(data_dict['x'], data_dict['structural'], label='structural', lw=3, c='tab:green')\n",
    "ax.plot(data_dict['x'], data_dict['behavioral'], label='behavioral', lw=3, color='tab:red')\n",
    "ax.tick_params(labelsize=14)\n",
    "ax.set_title('Number of queries ($ m $)=99', fontsize=18)\n",
    "\n",
    "fig.suptitle('The effect of properties of the query set ($ Q $)\\n' # + r'($N$=10,000; LoRA rank=128; $n$=4; $K$=3)'\n",
    "             , fontsize=19, y=0.905)\n",
    "\n",
    "plt.tight_layout()\n",
    "plt.savefig('figures/effect_of_properties_of_Q.pdf')"
   ]
  },
  {
   "cell_type": "code",
   "execution_count": null,
   "metadata": {},
   "outputs": [],
   "source": []
  }
 ],
 "metadata": {
  "kernelspec": {
   "display_name": "helivan",
   "language": "python",
   "name": "helivan"
  },
  "language_info": {
   "codemirror_mode": {
    "name": "ipython",
    "version": 3
   },
   "file_extension": ".py",
   "mimetype": "text/x-python",
   "name": "python",
   "nbconvert_exporter": "python",
   "pygments_lexer": "ipython3",
   "version": "3.10.12"
  }
 },
 "nbformat": 4,
 "nbformat_minor": 4
}
